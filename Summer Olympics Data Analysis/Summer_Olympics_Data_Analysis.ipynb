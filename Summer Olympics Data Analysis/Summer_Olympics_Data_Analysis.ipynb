{
  "nbformat": 4,
  "nbformat_minor": 5,
  "metadata": {
    "kernelspec": {
      "display_name": "Python 3",
      "language": "python",
      "name": "python3"
    },
    "language_info": {
      "codemirror_mode": {
        "name": "ipython",
        "version": 3
      },
      "file_extension": ".py",
      "mimetype": "text/x-python",
      "name": "python",
      "nbconvert_exporter": "python",
      "pygments_lexer": "ipython3",
      "version": "3.8.8"
    },
    "colab": {
      "name": "Summer Olympics Data Analysis.ipynb",
      "provenance": []
    }
  },
  "cells": [
    {
      "cell_type": "markdown",
      "metadata": {
        "id": "09b2bca0"
      },
      "source": [
        "## Python for ML/AI intern @ Elite Techno Groups"
      ],
      "id": "09b2bca0"
    },
    {
      "cell_type": "markdown",
      "metadata": {
        "id": "04c67bc2"
      },
      "source": [
        "## Project #2 - Summer Olympic Data Analysis"
      ],
      "id": "04c67bc2"
    },
    {
      "cell_type": "code",
      "metadata": {
        "id": "6ab6c50d"
      },
      "source": [
        "# Import the required libraries and read the data from csv file"
      ],
      "id": "6ab6c50d",
      "execution_count": null,
      "outputs": []
    },
    {
      "cell_type": "code",
      "metadata": {
        "id": "81f422bd"
      },
      "source": [
        "import pandas as pd\n",
        "import numpy as np\n",
        "import matplotlib.pyplot as plt"
      ],
      "id": "81f422bd",
      "execution_count": null,
      "outputs": []
    },
    {
      "cell_type": "code",
      "metadata": {
        "id": "83d273d5"
      },
      "source": [
        "df=pd.read_csv(\"summer.csv\")"
      ],
      "id": "83d273d5",
      "execution_count": null,
      "outputs": []
    },
    {
      "cell_type": "code",
      "metadata": {
        "id": "4f0fc195",
        "outputId": "a10e7651-2563-4756-9bc6-6b28d414df7a"
      },
      "source": [
        "df.head()"
      ],
      "id": "4f0fc195",
      "execution_count": null,
      "outputs": [
        {
          "data": {
            "text/html": [
              "<div>\n",
              "<style scoped>\n",
              "    .dataframe tbody tr th:only-of-type {\n",
              "        vertical-align: middle;\n",
              "    }\n",
              "\n",
              "    .dataframe tbody tr th {\n",
              "        vertical-align: top;\n",
              "    }\n",
              "\n",
              "    .dataframe thead th {\n",
              "        text-align: right;\n",
              "    }\n",
              "</style>\n",
              "<table border=\"1\" class=\"dataframe\">\n",
              "  <thead>\n",
              "    <tr style=\"text-align: right;\">\n",
              "      <th></th>\n",
              "      <th>Year</th>\n",
              "      <th>City</th>\n",
              "      <th>Sport</th>\n",
              "      <th>Discipline</th>\n",
              "      <th>Athlete</th>\n",
              "      <th>Country</th>\n",
              "      <th>Gender</th>\n",
              "      <th>Event</th>\n",
              "      <th>Medal</th>\n",
              "    </tr>\n",
              "  </thead>\n",
              "  <tbody>\n",
              "    <tr>\n",
              "      <th>0</th>\n",
              "      <td>1896</td>\n",
              "      <td>Athens</td>\n",
              "      <td>Aquatics</td>\n",
              "      <td>Swimming</td>\n",
              "      <td>HAJOS, Alfred</td>\n",
              "      <td>HUN</td>\n",
              "      <td>Men</td>\n",
              "      <td>100M Freestyle</td>\n",
              "      <td>Gold</td>\n",
              "    </tr>\n",
              "    <tr>\n",
              "      <th>1</th>\n",
              "      <td>1896</td>\n",
              "      <td>Athens</td>\n",
              "      <td>Aquatics</td>\n",
              "      <td>Swimming</td>\n",
              "      <td>HERSCHMANN, Otto</td>\n",
              "      <td>AUT</td>\n",
              "      <td>Men</td>\n",
              "      <td>100M Freestyle</td>\n",
              "      <td>Silver</td>\n",
              "    </tr>\n",
              "    <tr>\n",
              "      <th>2</th>\n",
              "      <td>1896</td>\n",
              "      <td>Athens</td>\n",
              "      <td>Aquatics</td>\n",
              "      <td>Swimming</td>\n",
              "      <td>DRIVAS, Dimitrios</td>\n",
              "      <td>GRE</td>\n",
              "      <td>Men</td>\n",
              "      <td>100M Freestyle For Sailors</td>\n",
              "      <td>Bronze</td>\n",
              "    </tr>\n",
              "    <tr>\n",
              "      <th>3</th>\n",
              "      <td>1896</td>\n",
              "      <td>Athens</td>\n",
              "      <td>Aquatics</td>\n",
              "      <td>Swimming</td>\n",
              "      <td>MALOKINIS, Ioannis</td>\n",
              "      <td>GRE</td>\n",
              "      <td>Men</td>\n",
              "      <td>100M Freestyle For Sailors</td>\n",
              "      <td>Gold</td>\n",
              "    </tr>\n",
              "    <tr>\n",
              "      <th>4</th>\n",
              "      <td>1896</td>\n",
              "      <td>Athens</td>\n",
              "      <td>Aquatics</td>\n",
              "      <td>Swimming</td>\n",
              "      <td>CHASAPIS, Spiridon</td>\n",
              "      <td>GRE</td>\n",
              "      <td>Men</td>\n",
              "      <td>100M Freestyle For Sailors</td>\n",
              "      <td>Silver</td>\n",
              "    </tr>\n",
              "  </tbody>\n",
              "</table>\n",
              "</div>"
            ],
            "text/plain": [
              "   Year    City     Sport Discipline             Athlete Country Gender  \\\n",
              "0  1896  Athens  Aquatics   Swimming       HAJOS, Alfred     HUN    Men   \n",
              "1  1896  Athens  Aquatics   Swimming    HERSCHMANN, Otto     AUT    Men   \n",
              "2  1896  Athens  Aquatics   Swimming   DRIVAS, Dimitrios     GRE    Men   \n",
              "3  1896  Athens  Aquatics   Swimming  MALOKINIS, Ioannis     GRE    Men   \n",
              "4  1896  Athens  Aquatics   Swimming  CHASAPIS, Spiridon     GRE    Men   \n",
              "\n",
              "                        Event   Medal  \n",
              "0              100M Freestyle    Gold  \n",
              "1              100M Freestyle  Silver  \n",
              "2  100M Freestyle For Sailors  Bronze  \n",
              "3  100M Freestyle For Sailors    Gold  \n",
              "4  100M Freestyle For Sailors  Silver  "
            ]
          },
          "execution_count": 4,
          "metadata": {},
          "output_type": "execute_result"
        }
      ]
    },
    {
      "cell_type": "code",
      "metadata": {
        "id": "c2b8b7e2",
        "outputId": "13d8a461-522b-4a46-9bca-7ef4b03e1380"
      },
      "source": [
        "# check if there is any null value\n",
        "df.isnull().sum()"
      ],
      "id": "c2b8b7e2",
      "execution_count": null,
      "outputs": [
        {
          "data": {
            "text/plain": [
              "Year          0\n",
              "City          0\n",
              "Sport         0\n",
              "Discipline    0\n",
              "Athlete       0\n",
              "Country       4\n",
              "Gender        0\n",
              "Event         0\n",
              "Medal         0\n",
              "dtype: int64"
            ]
          },
          "execution_count": 5,
          "metadata": {},
          "output_type": "execute_result"
        }
      ]
    },
    {
      "cell_type": "markdown",
      "metadata": {
        "id": "84365537"
      },
      "source": [
        "### 1. In how many cities Summer Olympics is held so far?"
      ],
      "id": "84365537"
    },
    {
      "cell_type": "code",
      "metadata": {
        "id": "958f565f",
        "outputId": "5777d655-3387-47b3-904d-5690b0badc32"
      },
      "source": [
        "list(df[\"City\"].unique())"
      ],
      "id": "958f565f",
      "execution_count": null,
      "outputs": [
        {
          "data": {
            "text/plain": [
              "['Athens',\n",
              " 'Paris',\n",
              " 'St Louis',\n",
              " 'London',\n",
              " 'Stockholm',\n",
              " 'Antwerp',\n",
              " 'Amsterdam',\n",
              " 'Los Angeles',\n",
              " 'Berlin',\n",
              " 'Helsinki',\n",
              " 'Melbourne / Stockholm',\n",
              " 'Rome',\n",
              " 'Tokyo',\n",
              " 'Mexico',\n",
              " 'Munich',\n",
              " 'Montreal',\n",
              " 'Moscow',\n",
              " 'Seoul',\n",
              " 'Barcelona',\n",
              " 'Atlanta',\n",
              " 'Sydney',\n",
              " 'Beijing']"
            ]
          },
          "execution_count": 6,
          "metadata": {},
          "output_type": "execute_result"
        }
      ]
    },
    {
      "cell_type": "code",
      "metadata": {
        "id": "5eafa9fb",
        "outputId": "35cf4fa6-1920-49b2-ea5a-540305872326"
      },
      "source": [
        "len(df['City'].unique())"
      ],
      "id": "5eafa9fb",
      "execution_count": null,
      "outputs": [
        {
          "data": {
            "text/plain": [
              "22"
            ]
          },
          "execution_count": 7,
          "metadata": {},
          "output_type": "execute_result"
        }
      ]
    },
    {
      "cell_type": "markdown",
      "metadata": {
        "id": "b4bd9540"
      },
      "source": [
        "#### Summer Olympics are held in 22 cities so far."
      ],
      "id": "b4bd9540"
    },
    {
      "cell_type": "markdown",
      "metadata": {
        "id": "f2cd4bf8"
      },
      "source": [
        "### 2. Which sport is having most number of Gold Medals so far? (Top 5)"
      ],
      "id": "f2cd4bf8"
    },
    {
      "cell_type": "code",
      "metadata": {
        "id": "269a3622",
        "outputId": "aa2b0271-06a3-4f33-ea56-de7db246a31a"
      },
      "source": [
        "df[\"Sport\"].unique()"
      ],
      "id": "269a3622",
      "execution_count": null,
      "outputs": [
        {
          "data": {
            "text/plain": [
              "array(['Aquatics', 'Athletics', 'Cycling', 'Fencing', 'Gymnastics',\n",
              "       'Shooting', 'Tennis', 'Weightlifting', 'Wrestling', 'Archery',\n",
              "       'Basque Pelota', 'Cricket', 'Croquet', 'Equestrian', 'Football',\n",
              "       'Golf', 'Polo', 'Rowing', 'Rugby', 'Sailing', 'Tug of War',\n",
              "       'Boxing', 'Lacrosse', 'Roque', 'Hockey', 'Jeu de paume', 'Rackets',\n",
              "       'Skating', 'Water Motorsports', 'Modern Pentathlon', 'Ice Hockey',\n",
              "       'Basketball', 'Canoe / Kayak', 'Handball', 'Judo', 'Volleyball',\n",
              "       'Table Tennis', 'Badminton', 'Baseball', 'Softball', 'Taekwondo',\n",
              "       'Triathlon', 'Canoe'], dtype=object)"
            ]
          },
          "execution_count": 8,
          "metadata": {},
          "output_type": "execute_result"
        }
      ]
    },
    {
      "cell_type": "code",
      "metadata": {
        "id": "4fb54928",
        "outputId": "c6d6dced-d49e-4b79-b2ac-6ecb7bc0b63b"
      },
      "source": [
        "Gold_data=df[df[\"Medal\"]=='Gold']\n",
        "Gold_data"
      ],
      "id": "4fb54928",
      "execution_count": null,
      "outputs": [
        {
          "data": {
            "text/html": [
              "<div>\n",
              "<style scoped>\n",
              "    .dataframe tbody tr th:only-of-type {\n",
              "        vertical-align: middle;\n",
              "    }\n",
              "\n",
              "    .dataframe tbody tr th {\n",
              "        vertical-align: top;\n",
              "    }\n",
              "\n",
              "    .dataframe thead th {\n",
              "        text-align: right;\n",
              "    }\n",
              "</style>\n",
              "<table border=\"1\" class=\"dataframe\">\n",
              "  <thead>\n",
              "    <tr style=\"text-align: right;\">\n",
              "      <th></th>\n",
              "      <th>Year</th>\n",
              "      <th>City</th>\n",
              "      <th>Sport</th>\n",
              "      <th>Discipline</th>\n",
              "      <th>Athlete</th>\n",
              "      <th>Country</th>\n",
              "      <th>Gender</th>\n",
              "      <th>Event</th>\n",
              "      <th>Medal</th>\n",
              "    </tr>\n",
              "  </thead>\n",
              "  <tbody>\n",
              "    <tr>\n",
              "      <th>0</th>\n",
              "      <td>1896</td>\n",
              "      <td>Athens</td>\n",
              "      <td>Aquatics</td>\n",
              "      <td>Swimming</td>\n",
              "      <td>HAJOS, Alfred</td>\n",
              "      <td>HUN</td>\n",
              "      <td>Men</td>\n",
              "      <td>100M Freestyle</td>\n",
              "      <td>Gold</td>\n",
              "    </tr>\n",
              "    <tr>\n",
              "      <th>3</th>\n",
              "      <td>1896</td>\n",
              "      <td>Athens</td>\n",
              "      <td>Aquatics</td>\n",
              "      <td>Swimming</td>\n",
              "      <td>MALOKINIS, Ioannis</td>\n",
              "      <td>GRE</td>\n",
              "      <td>Men</td>\n",
              "      <td>100M Freestyle For Sailors</td>\n",
              "      <td>Gold</td>\n",
              "    </tr>\n",
              "    <tr>\n",
              "      <th>6</th>\n",
              "      <td>1896</td>\n",
              "      <td>Athens</td>\n",
              "      <td>Aquatics</td>\n",
              "      <td>Swimming</td>\n",
              "      <td>HAJOS, Alfred</td>\n",
              "      <td>HUN</td>\n",
              "      <td>Men</td>\n",
              "      <td>1200M Freestyle</td>\n",
              "      <td>Gold</td>\n",
              "    </tr>\n",
              "    <tr>\n",
              "      <th>9</th>\n",
              "      <td>1896</td>\n",
              "      <td>Athens</td>\n",
              "      <td>Aquatics</td>\n",
              "      <td>Swimming</td>\n",
              "      <td>NEUMANN, Paul</td>\n",
              "      <td>AUT</td>\n",
              "      <td>Men</td>\n",
              "      <td>400M Freestyle</td>\n",
              "      <td>Gold</td>\n",
              "    </tr>\n",
              "    <tr>\n",
              "      <th>13</th>\n",
              "      <td>1896</td>\n",
              "      <td>Athens</td>\n",
              "      <td>Athletics</td>\n",
              "      <td>Athletics</td>\n",
              "      <td>BURKE, Thomas</td>\n",
              "      <td>USA</td>\n",
              "      <td>Men</td>\n",
              "      <td>100M</td>\n",
              "      <td>Gold</td>\n",
              "    </tr>\n",
              "    <tr>\n",
              "      <th>...</th>\n",
              "      <td>...</td>\n",
              "      <td>...</td>\n",
              "      <td>...</td>\n",
              "      <td>...</td>\n",
              "      <td>...</td>\n",
              "      <td>...</td>\n",
              "      <td>...</td>\n",
              "      <td>...</td>\n",
              "      <td>...</td>\n",
              "    </tr>\n",
              "    <tr>\n",
              "      <th>31145</th>\n",
              "      <td>2012</td>\n",
              "      <td>London</td>\n",
              "      <td>Wrestling</td>\n",
              "      <td>Wrestling Freestyle</td>\n",
              "      <td>NOROOZI, Omid Haji</td>\n",
              "      <td>IRI</td>\n",
              "      <td>Men</td>\n",
              "      <td>Wg 60 KG</td>\n",
              "      <td>Gold</td>\n",
              "    </tr>\n",
              "    <tr>\n",
              "      <th>31149</th>\n",
              "      <td>2012</td>\n",
              "      <td>London</td>\n",
              "      <td>Wrestling</td>\n",
              "      <td>Wrestling Freestyle</td>\n",
              "      <td>KIM, Hyeonwoo</td>\n",
              "      <td>KOR</td>\n",
              "      <td>Men</td>\n",
              "      <td>Wg 66 KG</td>\n",
              "      <td>Gold</td>\n",
              "    </tr>\n",
              "    <tr>\n",
              "      <th>31153</th>\n",
              "      <td>2012</td>\n",
              "      <td>London</td>\n",
              "      <td>Wrestling</td>\n",
              "      <td>Wrestling Freestyle</td>\n",
              "      <td>VLASOV, Roman</td>\n",
              "      <td>RUS</td>\n",
              "      <td>Men</td>\n",
              "      <td>Wg 74 KG</td>\n",
              "      <td>Gold</td>\n",
              "    </tr>\n",
              "    <tr>\n",
              "      <th>31157</th>\n",
              "      <td>2012</td>\n",
              "      <td>London</td>\n",
              "      <td>Wrestling</td>\n",
              "      <td>Wrestling Freestyle</td>\n",
              "      <td>KHUGAEV, Alan</td>\n",
              "      <td>RUS</td>\n",
              "      <td>Men</td>\n",
              "      <td>Wg 84 KG</td>\n",
              "      <td>Gold</td>\n",
              "    </tr>\n",
              "    <tr>\n",
              "      <th>31161</th>\n",
              "      <td>2012</td>\n",
              "      <td>London</td>\n",
              "      <td>Wrestling</td>\n",
              "      <td>Wrestling Freestyle</td>\n",
              "      <td>REZAEI, Ghasem Gholamreza</td>\n",
              "      <td>IRI</td>\n",
              "      <td>Men</td>\n",
              "      <td>Wg 96 KG</td>\n",
              "      <td>Gold</td>\n",
              "    </tr>\n",
              "  </tbody>\n",
              "</table>\n",
              "<p>10486 rows × 9 columns</p>\n",
              "</div>"
            ],
            "text/plain": [
              "       Year    City      Sport           Discipline  \\\n",
              "0      1896  Athens   Aquatics             Swimming   \n",
              "3      1896  Athens   Aquatics             Swimming   \n",
              "6      1896  Athens   Aquatics             Swimming   \n",
              "9      1896  Athens   Aquatics             Swimming   \n",
              "13     1896  Athens  Athletics            Athletics   \n",
              "...     ...     ...        ...                  ...   \n",
              "31145  2012  London  Wrestling  Wrestling Freestyle   \n",
              "31149  2012  London  Wrestling  Wrestling Freestyle   \n",
              "31153  2012  London  Wrestling  Wrestling Freestyle   \n",
              "31157  2012  London  Wrestling  Wrestling Freestyle   \n",
              "31161  2012  London  Wrestling  Wrestling Freestyle   \n",
              "\n",
              "                         Athlete Country Gender                       Event  \\\n",
              "0                  HAJOS, Alfred     HUN    Men              100M Freestyle   \n",
              "3             MALOKINIS, Ioannis     GRE    Men  100M Freestyle For Sailors   \n",
              "6                  HAJOS, Alfred     HUN    Men             1200M Freestyle   \n",
              "9                  NEUMANN, Paul     AUT    Men              400M Freestyle   \n",
              "13                 BURKE, Thomas     USA    Men                        100M   \n",
              "...                          ...     ...    ...                         ...   \n",
              "31145         NOROOZI, Omid Haji     IRI    Men                    Wg 60 KG   \n",
              "31149              KIM, Hyeonwoo     KOR    Men                    Wg 66 KG   \n",
              "31153              VLASOV, Roman     RUS    Men                    Wg 74 KG   \n",
              "31157              KHUGAEV, Alan     RUS    Men                    Wg 84 KG   \n",
              "31161  REZAEI, Ghasem Gholamreza     IRI    Men                    Wg 96 KG   \n",
              "\n",
              "      Medal  \n",
              "0      Gold  \n",
              "3      Gold  \n",
              "6      Gold  \n",
              "9      Gold  \n",
              "13     Gold  \n",
              "...     ...  \n",
              "31145  Gold  \n",
              "31149  Gold  \n",
              "31153  Gold  \n",
              "31157  Gold  \n",
              "31161  Gold  \n",
              "\n",
              "[10486 rows x 9 columns]"
            ]
          },
          "execution_count": 9,
          "metadata": {},
          "output_type": "execute_result"
        }
      ]
    },
    {
      "cell_type": "code",
      "metadata": {
        "id": "0bdabe4d",
        "outputId": "04b81be7-d008-4da0-f199-939d8daa0ffa"
      },
      "source": [
        "Gold_data['Sport'].value_counts().head()"
      ],
      "id": "0bdabe4d",
      "execution_count": null,
      "outputs": [
        {
          "data": {
            "text/plain": [
              "Aquatics      1421\n",
              "Athletics     1215\n",
              "Rowing         890\n",
              "Gymnastics     820\n",
              "Fencing        552\n",
              "Name: Sport, dtype: int64"
            ]
          },
          "execution_count": 10,
          "metadata": {},
          "output_type": "execute_result"
        }
      ]
    },
    {
      "cell_type": "code",
      "metadata": {
        "id": "19ae03ad",
        "outputId": "0a24d28f-cd61-4d16-b256-e5cee60f23e3"
      },
      "source": [
        "# Alternate way\n",
        "data = []\n",
        "\n",
        "for sport in Gold_data['Sport'].unique():\n",
        "    freq=len(Gold_data[Gold_data['Sport']  == sport]),\n",
        "    data.append([freq,sport])\n",
        "data.sort()\n",
        "data.reverse()\n",
        "for i in range(0,5):\n",
        "    print(data[i])   "
      ],
      "id": "19ae03ad",
      "execution_count": null,
      "outputs": [
        {
          "name": "stdout",
          "output_type": "stream",
          "text": [
            "[(1421,), 'Aquatics']\n",
            "[(1215,), 'Athletics']\n",
            "[(890,), 'Rowing']\n",
            "[(820,), 'Gymnastics']\n",
            "[(552,), 'Fencing']\n"
          ]
        }
      ]
    },
    {
      "cell_type": "code",
      "metadata": {
        "id": "1718e8fd",
        "outputId": "43250bb3-5d77-4bdc-c06d-098d0342a214"
      },
      "source": [
        "d = []\n",
        "\n",
        "for sport in Gold_data['Sport'].unique():\n",
        "    d.append([sport , len(Gold_data[Gold_data['Sport']  == sport])])\n",
        "\n",
        "pd.DataFrame(d,columns = ['Sport','freq']).sort_values(by='freq', ascending=False).head().plot(x = 'Sport', y = 'freq', kind = 'bar',color='Yellow', figsize = (5,5))\n"
      ],
      "id": "1718e8fd",
      "execution_count": null,
      "outputs": [
        {
          "data": {
            "text/plain": [
              "<AxesSubplot:xlabel='Sport'>"
            ]
          },
          "execution_count": 12,
          "metadata": {},
          "output_type": "execute_result"
        },
        {
          "data": {
            "image/png": "[encoded data removed]",
            "text/plain": [
              "<Figure size 360x360 with 1 Axes>"
            ]
          },
          "metadata": {
            "needs_background": "light"
          },
          "output_type": "display_data"
        }
      ]
    },
    {
      "cell_type": "markdown",
      "metadata": {
        "id": "f65458f7"
      },
      "source": [
        "#### The top 5 sports having the most number of gold medals are: Aquatics-4170, Athletics-3638, Rowing-2667, Gymnastics-2307, Fencing-1613"
      ],
      "id": "f65458f7"
    },
    {
      "cell_type": "markdown",
      "metadata": {
        "id": "221b278d"
      },
      "source": [
        "### 3. Which sport is having most number of medals so far? (Top 5)"
      ],
      "id": "221b278d"
    },
    {
      "cell_type": "code",
      "metadata": {
        "id": "be0f52f2",
        "outputId": "c24623f0-5497-4107-f8ef-f6601f26ce0f"
      },
      "source": [
        "df['Sport'].value_counts().head()"
      ],
      "id": "be0f52f2",
      "execution_count": null,
      "outputs": [
        {
          "data": {
            "text/plain": [
              "Aquatics      4170\n",
              "Athletics     3638\n",
              "Rowing        2667\n",
              "Gymnastics    2307\n",
              "Fencing       1613\n",
              "Name: Sport, dtype: int64"
            ]
          },
          "execution_count": 13,
          "metadata": {},
          "output_type": "execute_result"
        }
      ]
    },
    {
      "cell_type": "code",
      "metadata": {
        "id": "c52ef2b1",
        "outputId": "48f5d224-f250-4bd0-a5c3-0c4009220935"
      },
      "source": [
        "d1 = []\n",
        "\n",
        "for sport in df['Sport'].unique():\n",
        "    d1.append([sport , len(df[df['Sport']  == sport])])\n",
        "\n",
        "pd.DataFrame(d1,columns = ['Sport','freq']).sort_values(by='freq', ascending=False).head().plot(x = 'Sport', y = 'freq', kind = 'bar', figsize = (5,5))"
      ],
      "id": "c52ef2b1",
      "execution_count": null,
      "outputs": [
        {
          "data": {
            "text/plain": [
              "<AxesSubplot:xlabel='Sport'>"
            ]
          },
          "execution_count": 14,
          "metadata": {},
          "output_type": "execute_result"
        },
        {
          "data": {
            "image/png": "[encoded data removed]",
            "text/plain": [
              "<Figure size 360x360 with 1 Axes>"
            ]
          },
          "metadata": {
            "needs_background": "light"
          },
          "output_type": "display_data"
        }
      ]
    },
    {
      "cell_type": "markdown",
      "metadata": {
        "id": "07dc69f4"
      },
      "source": [
        "#### The top 5 sports having the most number of medals are: Aquatics-4170,Athletics-3638, Rowing-2667, Gymnastics-2307, Fencing-1613"
      ],
      "id": "07dc69f4"
    },
    {
      "cell_type": "markdown",
      "metadata": {
        "id": "32be3014"
      },
      "source": [
        "### 4. Which player has won most number of medals? (Top 5)"
      ],
      "id": "32be3014"
    },
    {
      "cell_type": "code",
      "metadata": {
        "id": "3a4a6b90",
        "outputId": "d9fa30d0-b547-4afc-f042-86730b72bcf8"
      },
      "source": [
        "df['Athlete'].value_counts().head()"
      ],
      "id": "3a4a6b90",
      "execution_count": null,
      "outputs": [
        {
          "data": {
            "text/plain": [
              "PHELPS, Michael         22\n",
              "LATYNINA, Larisa        18\n",
              "ANDRIANOV, Nikolay      15\n",
              "SHAKHLIN, Boris         13\n",
              "MANGIAROTTI, Edoardo    13\n",
              "Name: Athlete, dtype: int64"
            ]
          },
          "execution_count": 15,
          "metadata": {},
          "output_type": "execute_result"
        }
      ]
    },
    {
      "cell_type": "code",
      "metadata": {
        "id": "7e432a08",
        "outputId": "04bf814a-c1bb-4440-b273-c4ea097d0253"
      },
      "source": [
        "d2 = []\n",
        "\n",
        "for athlete in df['Athlete'].unique():\n",
        "    d2.append([athlete , len(df[df['Athlete']  == athlete])])\n",
        "\n",
        "pd.DataFrame(d2,columns = ['Athlete','freq']).sort_values(by='freq', ascending=False).head().plot(x = 'Athlete', y = 'freq', kind = 'bar', color='Red', figsize = (5,5))"
      ],
      "id": "7e432a08",
      "execution_count": null,
      "outputs": [
        {
          "data": {
            "text/plain": [
              "<AxesSubplot:xlabel='Athlete'>"
            ]
          },
          "execution_count": 16,
          "metadata": {},
          "output_type": "execute_result"
        },
        {
          "data": {
            "image/png": "[encoded data removed]",
            "text/plain": [
              "<Figure size 360x360 with 1 Axes>"
            ]
          },
          "metadata": {
            "needs_background": "light"
          },
          "output_type": "display_data"
        }
      ]
    },
    {
      "cell_type": "markdown",
      "metadata": {
        "id": "2aa5fad4"
      },
      "source": [
        "#### Top 5 Players having the most number of medals are: PHELPS, Michael-22; LATYNINA,Larisa-18; ANDRIANOV,Nikolay-15; SHAKHLIN,Boris-13; MANGIAROTTI,Edoardo-13"
      ],
      "id": "2aa5fad4"
    },
    {
      "cell_type": "markdown",
      "metadata": {
        "id": "ae67bf51"
      },
      "source": [
        "### 5. Which player has won most number Gold Medals of medals? (Top 5)"
      ],
      "id": "ae67bf51"
    },
    {
      "cell_type": "code",
      "metadata": {
        "id": "54073c75",
        "outputId": "1e0b37f9-a1dc-4eed-8def-905441bf43b0"
      },
      "source": [
        "Gold_data['Athlete'].value_counts().head()"
      ],
      "id": "54073c75",
      "execution_count": null,
      "outputs": [
        {
          "data": {
            "text/plain": [
              "PHELPS, Michael     18\n",
              "LATYNINA, Larisa     9\n",
              "LEWIS, Carl          9\n",
              "NURMI, Paavo         9\n",
              "SPITZ, Mark          9\n",
              "Name: Athlete, dtype: int64"
            ]
          },
          "execution_count": 17,
          "metadata": {},
          "output_type": "execute_result"
        }
      ]
    },
    {
      "cell_type": "code",
      "metadata": {
        "id": "8310639f",
        "outputId": "d2fbd0e4-0c0a-4344-8d36-f78ca505247b"
      },
      "source": [
        "d3 = []\n",
        "\n",
        "for athlete in Gold_data['Athlete'].unique():\n",
        "    d3.append([athlete , len(Gold_data[Gold_data['Athlete']  == athlete])])\n",
        "\n",
        "pd.DataFrame(d3,columns = ['Athlete','freq']).sort_values(by='freq', ascending=False).head().plot(x = 'Athlete', y = 'freq', kind = 'bar', color='Green', figsize = (5,5))"
      ],
      "id": "8310639f",
      "execution_count": null,
      "outputs": [
        {
          "data": {
            "text/plain": [
              "<AxesSubplot:xlabel='Athlete'>"
            ]
          },
          "execution_count": 18,
          "metadata": {},
          "output_type": "execute_result"
        },
        {
          "data": {
            "image/png": "[encoded data removed]",
            "text/plain": [
              "<Figure size 360x360 with 1 Axes>"
            ]
          },
          "metadata": {
            "needs_background": "light"
          },
          "output_type": "display_data"
        }
      ]
    },
    {
      "cell_type": "markdown",
      "metadata": {
        "id": "1484a4c1"
      },
      "source": [
        "#### Top 5 Players having the most number of Gold medals are: PHELPS,Michael-18; SPITZ,Mark-9; LEWIS,Carl-9; LATYNINA,Larisa-9; NURMI,Paavo-9"
      ],
      "id": "1484a4c1"
    },
    {
      "cell_type": "markdown",
      "metadata": {
        "id": "553abd04"
      },
      "source": [
        "### 6. In which year India won first Gold Medal in Summer Olympics?"
      ],
      "id": "553abd04"
    },
    {
      "cell_type": "code",
      "metadata": {
        "scrolled": true,
        "id": "698feaa9",
        "outputId": "3aeda5a2-690c-4956-a0b8-ae12472647dd"
      },
      "source": [
        "Gold_ind=Gold_data[Gold_data[\"Country\"]=='IND']\n",
        "x=list(Gold_ind['Year'].unique())\n",
        "x.sort()\n",
        "print(x[0])"
      ],
      "id": "698feaa9",
      "execution_count": null,
      "outputs": [
        {
          "name": "stdout",
          "output_type": "stream",
          "text": [
            "1928\n"
          ]
        }
      ]
    },
    {
      "cell_type": "code",
      "metadata": {
        "id": "52c565ce",
        "outputId": "88fd6081-ce5e-40f9-c2fe-74668dce211d"
      },
      "source": [
        "# Alternate method\n",
        "x= list(Gold_data[Gold_data[\"Country\"]=='IND']['Year'].unique())\n",
        "x[0]"
      ],
      "id": "52c565ce",
      "execution_count": null,
      "outputs": [
        {
          "data": {
            "text/plain": [
              "1928"
            ]
          },
          "execution_count": 20,
          "metadata": {},
          "output_type": "execute_result"
        }
      ]
    },
    {
      "cell_type": "markdown",
      "metadata": {
        "id": "579c460e"
      },
      "source": [
        "#### India won first Gold Medal in 1928"
      ],
      "id": "579c460e"
    },
    {
      "cell_type": "markdown",
      "metadata": {
        "id": "0df94917"
      },
      "source": [
        "### 7. Which event is most popular in terms on number of players? (Top 5)"
      ],
      "id": "0df94917"
    },
    {
      "cell_type": "code",
      "metadata": {
        "id": "3150e1de",
        "outputId": "d37d2259-22a0-4dd1-b073-7f17c17f064b"
      },
      "source": [
        "print(df['Event'].unique())"
      ],
      "id": "3150e1de",
      "execution_count": null,
      "outputs": [
        {
          "name": "stdout",
          "output_type": "stream",
          "text": [
            "['100M Freestyle' '100M Freestyle For Sailors' '1200M Freestyle'\n",
            " '400M Freestyle' '100M' '110M Hurdles' '1500M' '400M' '800M'\n",
            " 'Discus Throw' 'High Jump' 'Long Jump' 'Marathon' 'Pole Vault' 'Shot Put'\n",
            " 'Triple Jump' 'Individual Road Race' '100KM' '10KM' '12-Hour Race'\n",
            " '1KM Time Trial' 'Sprint Indivual' 'Foil Individual' 'Foil, Masters'\n",
            " 'Sabre Individual' 'Horizontal Bar' 'Parallel Bars' 'Pommel Horse'\n",
            " 'Rings' 'Rope Climbing' 'Team, Horizontal Bar' 'Team, Parallel Bars'\n",
            " 'Vault' '25M Army Pistol' '25M Rapid Fire Pistol (60 Shots)'\n",
            " '50M Pistol (60 Shots)' 'Army Rifle, 200M' 'Army Rifle, 300M' 'Doubles'\n",
            " 'Singles' 'Heavyweight - One Hand Lift' 'Heavyweight - Two Hand Lift'\n",
            " 'Open Event' '1500M Freestyle' '200M Backstroke' '200M Freestyle'\n",
            " '200M Obstacle Event' '200M Team Swimming' '4000M Freestyle'\n",
            " 'Underwater Swimming' 'Water Polo' 'Au Chapelet, 33M' 'Au Chapelet, 50M'\n",
            " 'Au Cordon Doré, 33M' 'Au Cordon Doré, 50M' 'Sur La Perche À La Herse'\n",
            " 'Sur La Perche À La Pyramide' '200M' '200M Hurdles' '3000M Steeplechase'\n",
            " '4000M Steeplechase' '400M Hurdles' '5000M Team' '60M' 'Hammer Throw'\n",
            " 'High Jump, Standing' 'Long Jump, Standing' 'Triple Jump, Standing'\n",
            " 'Cesta Punta' 'Cricket' 'Double' 'Individual 1 Ball' 'Individual 2 Balls'\n",
            " '25 Kilometres' 'Individual' 'Long Jump Individual' 'Épée Individual'\n",
            " 'Épée, Amateurs And Masters' 'Épée, Masters' 'Sabre, Masters' 'Football'\n",
            " 'Individual All-Round' 'Polo' 'Eight With Coxswain (8+)'\n",
            " 'Four-Oared Shell With Coxswain (4-)'\n",
            " 'Pair-Oared Shell With Coxswain (2+)' 'Single Sculls (1X)' 'Rugby'\n",
            " '0.5-1T' '10-20T' '3-10T' 'Open Class' '50M Army Pistol, Team'\n",
            " 'Army Rifle, 300M, 3 Positions' 'Army Rifle, 300M, Kneeling'\n",
            " 'Army Rifle, 300M, Prone' 'Army Rifle, 300M, Standing' 'Free Rifle, Team'\n",
            " 'Trap (125 Targets)' 'Mixed Doubles' 'Tug Of War' '10M Platform'\n",
            " 'Plunge For Distance' '100M Backstroke' '400M Breaststroke'\n",
            " '4X50Y Freestyle Relay' '50Y Freestyle (45.72M)'\n",
            " '880Y Freestyle (804.66M)' 'Double American Round (60Y - 50Y - 40Y)'\n",
            " 'Double Columbia Round (50Y - 40Y - 30Y)'\n",
            " 'Double National Round (60Y - 50Y)'\n",
            " 'Double York Round (100Y - 80Y - 60Y)' 'Team Round 60Y'\n",
            " 'Teams Fita Round' '4Miles Team' '56LB Weight Throw (25.4KG)' 'Decathlon'\n",
            " 'Triathlon (Long Jump / Shot Put / 100 Yards)' '- 47.63KG (Flyweight)'\n",
            " '+ 71.67KG (Heavyweight)' '47.63 - 52.16KG (Bantamweight)'\n",
            " '52.16 - 56.7KG (Featherweight)' '56.7 - 61.24KG (Lightweight)'\n",
            " '61.24 - 65.77KG (Welterweight)' '65.77 - 71.67KG (Middleweight)'\n",
            " '1 Mile (1609.3M)' '1/2 Mile (804.7M)' '1/3 Mile (536.5M)'\n",
            " '1/4 Mile (402.3M)' '2 Miles (3.218KM)' '25 Miles (40.232KM)'\n",
            " '5 Miles (8.046KM)' 'Foil Team' 'Stick, Single' 'Team' 'Club Swinging'\n",
            " 'Combined 3 Events' 'Combined 4 Events' 'Team Competition' 'Lacrosse'\n",
            " 'Coxless Pair (2-)' 'Double Sculls (2X)' 'Four Without Coxswain (4-)'\n",
            " 'All-Around Dumbbell Contest' '- 47.6KG (Light-Flyweight)'\n",
            " '47.6 - 52.16KG (Flyweight)' '52.16 - 56.7KG (Bantamweight)'\n",
            " '56.7 - 61.23KG (Featherweight)' '61.23 - 65.77KG (Lightweight)'\n",
            " '65.77 - 71.67KG (Welterweight)' '3M Springboard' '200M Breaststroke'\n",
            " '4X200M Freestyle Relay' 'Continental Style 50M'\n",
            " 'National Round (60Y - 50Y)' 'York Round (100Y - 80Y - 60Y)'\n",
            " '10Miles Walk (16093M)' '3200M Steeplechase' '3500M Walk'\n",
            " '3Miles Team (4828M)' '4X400M Relay' '5 Miles (8047M)'\n",
            " 'Discus Throw Ancient Style' 'Javelin Throw' 'Javelin Throw Freestyle'\n",
            " '- 52.62KG (Bantamweight)' '52.62 - 57.15KG (Featherweight)'\n",
            " '57.15 - 63.5KG (Lightweight)' '63.5 - 71.67KG (Middleweight)'\n",
            " '1980 Yards Pursuit, Team' '2000M Tandem' '20KM' '5000M'\n",
            " 'One Lap (660Y) Sprint' 'Épée Team' 'Sabre Team' 'Hockey' '12M' '6M' '7M'\n",
            " '8M' '1000Y Free Rifle, Prone' '100M Running Deer, Double Shots'\n",
            " '100M Running Deer, Single Shots' '100M Running Deer, Single Shots, Team'\n",
            " '25Y Small Bore Rifle, Disappearing Target'\n",
            " '25Y Small Bore Rifle, Moving Target'\n",
            " '300M Free Rifle 3 Positions (3X40 Shots)'\n",
            " '50+100Y Small Bore Rifle, Team' '50M Rifle Prone (60 Shots)'\n",
            " '50Y Army Pistol, Team' 'Clay Pigeons, Team' 'Rifle, Team' 'Pairs'\n",
            " 'Special Figures' 'Doubles Indoor' 'Singles Indoor' '8M Class C'\n",
            " 'Class B Up To 60 Feet' 'Open Class A' '- 54KG (Bantamweight)'\n",
            " '+ 73KG (Heavyweight)' '54 - 60.3KG (Featherweight)'\n",
            " '60.3 - 66.6KG (Lightweight)' '66.6 - 73KG (Middleweight)'\n",
            " '- 66.6KG (Lightweight)' '+ 93KG (Super Heavyweight)'\n",
            " '73 - 93KG (Light-Heavyweight)' 'Plain High Diving'\n",
            " '4X100M Freestyle Relay' '10000M' '10000M Walk' '3000M Team'\n",
            " '4X100M Relay' 'Cross Country Individual' 'Cross Country Team'\n",
            " 'Discus Throw, Both Hands' 'Javelin Throw, Both Hands' 'Pentathlon'\n",
            " 'Shot Put, Both Hands' 'Individual Time Trial' 'Team Time Trial'\n",
            " 'Team, Free System' 'Team, Swedish System' 'Individual Competition'\n",
            " 'Coxed Fours Jugriggers' '10M' '25M Small Bore Rifle, Team'\n",
            " '25M Small Rifle' '30M Army Pistol, Team' '50M Small Bore Rifle, Team'\n",
            " '600M Free Rifle' 'Mixed Doubles Indoor' '- 60KG (Featherweight)'\n",
            " '+ 82.5KG (Super Heavyweight)' '60 - 67.5KG (Lightweight)'\n",
            " '67.5 - 75KG (Middleweight)' '75 - 82.5KG (Light-Heavyweight)'\n",
            " 'Fixed Bird Target Large Birds' 'Fixed Bird Target Large Birds Teams'\n",
            " 'Fixed Bird Target Small Bird, Teams' 'Fixed Bird Target Small Birds'\n",
            " 'Moving Bird Target 28M Teams' 'Moving Bird Target 33M Teams'\n",
            " 'Moving Bird Target 50M Teams' 'Moving Bird Target, 28M'\n",
            " 'Moving Bird Target, 33M' 'Moving Bird Target, 50M' '3000M Walk'\n",
            " '- 50.8KG (Flyweight)' '+ 79.38KG (Heavyweight)'\n",
            " '50.8 - 53.52KG (Bantamweight)' '53.52 - 57.15KG (Featherweight)'\n",
            " '57.15 - 61.24KG (Lightweight)' '61.24 - 66.68KG (Welterweight)'\n",
            " '66.68 - 72.57KG (Middleweight)' '72.57 - 79.38KG (Light-Heavyweight)'\n",
            " '50KM' 'Team Pursuit (4000M)' 'Figure Riding Individual'\n",
            " 'Figure Riding Team' 'Ice Hockey' '10M (Rating 1907)' '10M (Rating 1919)'\n",
            " '12 Foot Dinghy' '12M (Rating 1907)' '12M (Rating 1919)' '18 Foot Dinghy'\n",
            " '30M Sq' '40M Sq' '6.5M (Rating 1919)' '6M (Rating 1907)'\n",
            " '6M (Rating 1919)' '8M (Rating 1907)' '8M (Rating 1919)'\n",
            " '100M Running Deer, Double Shots, Team'\n",
            " '300+600M Free Rifle, Team, Prone' '300M Free Rifle, Prone, Team'\n",
            " '300M Free Rifle, Standing, Team'\n",
            " '50M Small Bore Rifle, Standing, Individual' '600M Free Rifle, Prone'\n",
            " '600M Free Rifle, Team' '- 60KG, One-Two Hand 3 Events (Featherweight)'\n",
            " '+ 82.5KG, One-Two Hand 3 Events (Heavyweight)'\n",
            " '60 - 67.5KG, One-Two Hand 3 Events (Lightweight)'\n",
            " '67.5 - 75KG, One-Two Hand 3 Events (Middleweight)'\n",
            " '75 - 82.5KG, One-Two Hand 3 E. (Light-Heavyweight)'\n",
            " '+ 80KG (Heavyweight)' '75 - 80KG (Light-Heavyweight)'\n",
            " '+ 82KG (Super Heavyweight)' '75 - 82KG (Light-Heavyweight)'\n",
            " 'Sidehorse Vault' 'Olympic Class Monotype'\n",
            " '400, 600, 800M Free Rifle, Team' '600M Free Rifle, Individual'\n",
            " '- 60KG, One-Two Hand 5 Events (Featherweight)'\n",
            " '+ 82.5KG, One-Two Hand 5 Events (Heavyweight)'\n",
            " '60 - 67.5KG, One-Two Hand 5 Events (Lightweight)'\n",
            " '67.5 - 75KG, One-Two Hand 5 Events (Middleweight)'\n",
            " '75 - 82.5KG, One-Two Hand 5 E. (Light-Heavyweight)'\n",
            " '- 56KG (Bantamweight)' '+ 87KG (Heavyweight)'\n",
            " '56 - 61KG (Featherweight)' '61 - 66KG (Lightweight)'\n",
            " '66 - 72KG (Welterweight)' '72 - 79KG (Middleweight)'\n",
            " '79 - 87KG (Light-Heavyweight)' '- 58KG (Bantamweight)'\n",
            " '58 - 62KG (Featherweight)' '62 - 67.5KG (Lightweight)' '1KM Pursuit'\n",
            " '12 Foot Dinghy Individual' '- 60KG, Total (Featherweight)'\n",
            " '+ 82.5KG, Total (Heavyweight)' '60 - 67.5KG, Total (Lightweight)'\n",
            " '67.5 - 75KG, Total (Middleweight)'\n",
            " '75 - 82.5KG, Total (Light-Heavyweight)' '58 - 60KG (Featherweight)'\n",
            " '50KM Walk' '80M Hurdles' '50.8 - 54KG (Bantamweight)'\n",
            " '54 - 57.15KG (Featherweight)' 'Floor Exercises' 'Indian Clubs'\n",
            " 'Tumbling' 'Two-Person Keelboat Open (Star)' '+ 87KG (Super Heavyweight)'\n",
            " 'Basketball' 'C-1 1000M (Canoe Single)' 'C-2 10000M'\n",
            " 'C-2 1000M (Canoe Double)' 'Folding K-1 10000M' 'Folding K-2 10000M'\n",
            " 'K-1 10000M' 'K-1 1000M (Kayak Single)' 'K-2 10000M'\n",
            " 'K-2 1000M (Kayak Double)' 'Handball' '- 51KG (Flyweight)'\n",
            " '51 - 54KG (Bantamweight)' '54 - 58KG (Featherweight)'\n",
            " '58 - 62KG (Lightweight)' '62 - 67KG (Welterweight)'\n",
            " '67 - 73KG (Middleweight)' '73 - 80KG (Light-Heavyweight)' 'C-1 10000M'\n",
            " 'K-1 500M (Kayak Single)' 'Dragon' 'Firefly Class' 'Swallow (Golondrina)'\n",
            " '- 56KG, Total (Bantamweight)' '56 - 60KG, Total (Featherweight)'\n",
            " '- 52KG (Flyweight)' '52 - 57KG (Bantamweight)'\n",
            " '57 - 63KG (Featherweight)' '63 - 67KG (Lightweight)'\n",
            " '67 - 73KG (Welterweight)' '73 - 79KG (Middleweight)'\n",
            " '57 - 61KG (Featherweight)' '61 - 67KG (Lightweight)'\n",
            " '+ 81KG (Heavyweight)' '54 - 57KG (Featherweight)'\n",
            " '57 - 60KG (Lightweight)' '60 - 63.5KG (Light-Welterweight)'\n",
            " '63.5 - 67KG (Welterweight)' '67 - 71KG (Light-Middleweight)' '71-75KG'\n",
            " '75 - 81KG (Light-Heavyweight)' 'Balance Beam' 'Team, Portable Apparatus'\n",
            " 'Uneven Bars' '5.5M' 'Single-Handed Dinghy (Finn)'\n",
            " '100M Running Deer, Single/Double Shots'\n",
            " '50M Rifle 3 Positions (3X40 Shots)' '+ 90KG, Total (Heavyweight)'\n",
            " '82.5 - 90KG, Total (Middle-Heavyweight)' '100M Butterfly'\n",
            " '200M Butterfly' '20KM Walk' 'Sharpie 12M2' '4X100M Medley Relay'\n",
            " 'K-1 4X500M' 'K-2 500M (Kayak Double)' 'Flying Dutchman'\n",
            " '400M Individual Medley' 'K-4 1000M (Kayak Four)' 'Individual Pursuit'\n",
            " '- 68KG (Lightweight)' '68 - 80KG (Middleweight)' 'Open Category'\n",
            " 'Volleyball' '+ 97KG (Heavyweight)' '63 - 70KG (Lightweight)'\n",
            " '70 - 78KG (Welterweight)' '78 - 87KG (Middleweight)'\n",
            " '87 - 97KG (Light-Heavyweight)' '+ 97KG (Super Heavyweight)'\n",
            " '100M Breaststroke' '200M Individual Medley' '800M Freestyle'\n",
            " '- 48KG (Light-Flyweight)' '48 - 51KG (Flyweight)' 'Skeet (125 Targets)'\n",
            " 'Individual Fita Round' '100M Hurdles' 'C-1 (Canoe Single)'\n",
            " 'C-2 (Canoe Double)' 'K-1 (Kayak Single)' '- 63KG (Lightweight)'\n",
            " '+ 93KG (Heavyweight)' '63 - 70KG (Half-Middleweight)'\n",
            " '70 - 80KG (Middleweight)' '80 - 93KG (Half-Heavyweight)'\n",
            " 'Fleet/Match Race Keelboat Open (Soling)' 'Tempest'\n",
            " '50M Running Target (30+30 Shots)' '- 52KG, Total (Flyweight)'\n",
            " '+ 110KG, Total (Super Heavyweight)' '52 - 56KG, Total (Bantamweight)'\n",
            " '91 - 110KG, Total (Heavyweight)' '+ 100KG (Super Heavyweight)'\n",
            " '48 - 52KG (Flyweight)' '57 - 62KG (Featherweight)'\n",
            " '62 - 68KG (Lightweight)' '68 - 74KG (Welterweight)'\n",
            " '74 - 82KG (Middleweight)' '82 - 90KG (Light-Heavyweight)'\n",
            " '90 - 100KG (Heavyweight)' 'C-1 500M (Canoe Single)'\n",
            " 'C-2 500M (Canoe Double)' 'Pair Without Coxswain (2-)'\n",
            " 'Quadruple Sculls With Coxswain (4X)'\n",
            " 'Quadruple Sculls Without Coxswain (4X)' '470 - Two Person Dinghy'\n",
            " 'Tornado - Multihull' '- 60 KG' '+ 95KG (Heavyweight)'\n",
            " '60 - 65KG (Half-Lightweight)' '65 - 71KG (Lightweight)'\n",
            " '71 - 78KG (Half-Middleweight)' '78 - 86KG (Middleweight)'\n",
            " '86 - 95KG (Half-Heavyweight)' '100 - 110KG, Total (Heavyweight)'\n",
            " '90 - 100KG, Total (First-Heavyweight)' 'Duet' 'Solo' '3000M'\n",
            " 'Heptathlon' '+ 91KG (Super Heavyweight)' '81 - 91KG (Heavyweight)'\n",
            " 'K-4 500M (Kayak Four)' 'Points Race' 'Board (Windglider)'\n",
            " '10M Air Rifle (40 Shots)' '10M Air Rifle (60 Shots)'\n",
            " '25M Pistol (30+30 Shots)' '50M Rifle 3 Positions (3X20 Shots)'\n",
            " '50M Freestyle' 'Sprint' 'Board (Division Ii)'\n",
            " '10M Air Pistol (40 Shots)' '10M Air Pistol (60 Shots)'\n",
            " '100 - 130KG (Super Heavyweight)' 'Individual (Fita Olympic Round - 70M)'\n",
            " 'Team (Fita Olympic Round - 70M)' 'Baseball' '- 48KG (Extra-Lightweight)'\n",
            " '+ 72KG (Heavyweight)' '48 - 52KG (Half-Lightweight)'\n",
            " '52 - 56KG (Lightweight)' '56 - 61KG (Half-Middleweight)'\n",
            " '61 - 66KG (Middleweight)' '66 - 72KG (Half-Heavyweight)'\n",
            " 'Coxless Four (4-)' 'Board (Lechner)' 'Single-Handed Dinghy (Europe)'\n",
            " 'Cross-Country' 'Group Competition' '+ 100KG (Heavyweight)'\n",
            " '60 - 66KG (Half-Lightweight)' '66 - 73KG (Lightweight)'\n",
            " '73 - 81KG (Half-Middleweight)' '81 - 90KG (Middleweight)'\n",
            " '90 - 100KG (Half-Heavyweight)' 'Lightweight Coxless Four (4-)'\n",
            " 'Lightweight Double Sculls (2X)' 'Board (Mistral)'\n",
            " 'Single-Handed Dinghy Open (Laser)' 'Double Trap (120 Targets)'\n",
            " 'Double Trap (150 Targets)' 'Softball' 'Beach Volleyball'\n",
            " '- 54KG, Total (Flyweight)' '+ 108KG, Total (Super Heavyweight)'\n",
            " '54 - 59KG, Total (Bantamweight)' '59 - 64KG, Total (Featherweight)'\n",
            " '64 - 70KG, Total (Lightweight)' '70 - 76KG, Total (Middleweight)'\n",
            " '76 - 83KG, Total (Light-Heavyweight)'\n",
            " '83 - 91KG, Total (Middle-Heavyweight)'\n",
            " '91 - 99KG, Total (First-Heavyweight)' '99 - 108KG, Total (Heavyweight)'\n",
            " 'Synchronized Diving 10M Platform' 'Synchronized Diving 3M Springboard'\n",
            " '20KM Race Walk' '500M Time Trial' 'Keirin' 'Madison' 'Olympic Sprint'\n",
            " '+ 78KG (Heavyweight)' '52 - 57KG (Lightweight)'\n",
            " '57 - 63KG (Half-Middleweight)' '63 - 70KG (Middleweight)'\n",
            " '70 - 78KG (Half-Heavyweight)' '49Er - Skiff'\n",
            " '10M Running Target (30+30 Shots)' 'Skeet (75 Targets)'\n",
            " 'Trap (75 Targets)' '- 49 KG' '- 58 KG' '+ 67 KG' '+ 80 KG' '49 - 57 KG'\n",
            " '57 - 67 KG' '58 - 68 KG' '68 - 80 KG' '+ 105KG' '+ 75KG' '105KG' '48KG'\n",
            " '53KG' '56KG' '58KG' '62KG' '63KG' '69KG' '75KG' '77KG' '85KG' '94KG'\n",
            " '48 - 54KG' '54 - 58KG' '58 - 63KG' '63 - 69KG' '69 - 76KG' '76 - 85KG'\n",
            " '85 - 97KG' '97 - 130KG' '48KG (Light Flywieght)' '60 - 64 KG'\n",
            " '64 - 69 KG' '69 - 75 KG' 'Team Sprint' '- 48 KG' 'Star - Keelboat'\n",
            " 'Yngling - Keelboat' '- 48KG' '- 55KG' '48 - 55KG' '55 - 60KG'\n",
            " '55 - 63KG' '60 - 66KG' '63 - 72KG' '66 - 74KG' '74 - 84KG' '84 - 96KG'\n",
            " '96 - 120KG' 'Marathon 10KM' 'Finn - Heavyweight Dinghy'\n",
            " 'Laser - One Person Dinghy' 'Laser Radial - One Person Dinghy'\n",
            " 'Rs:X - Windsurfer' 'Synchronized 10M' 'Synchronized 3M' '200M Medley'\n",
            " '400M Medley' '4X100M Freestyle' '4X100M Medley' '4X200M Freestyle'\n",
            " '3000M Steeple' '+ 91KG' '46 - 49KG' '51 KG' '52KG' '57 - 60KG' '60 KG'\n",
            " '75 - 81KG' '75 KG' '81 - 91KG' 'C-1 (Single)' 'C-2 (Double)'\n",
            " 'K-1 (Single)' 'C-1 1000M' 'C-1 200M' 'C-2 1000M' 'K-1 1000M' 'K-1 200M'\n",
            " 'K-1 500M' 'K-2 1000M' 'K-2 200M' 'K-2 500M' 'K-4 1000M' 'K-4 500M'\n",
            " 'Individual Road' 'Time Trial' 'Omnium' 'Team Pursuit' 'Beam'\n",
            " 'Individual All-Around' '+ 100KG' '+ 78KG' '48 - 52KG' '52 - 57KG'\n",
            " '57 - 63KG' '63 - 70KG' '66 - 73KG' '70 - 78KG' '73 - 81KG' '81 - 90KG'\n",
            " '90 - 100KG' 'Coxless Four' 'Coxless Pair 2-' 'Double Sculls'\n",
            " 'Eight With Coxswain' 'Lightweight 4' 'Lightweight Doubles'\n",
            " 'Quadruple Sculls' 'Single Sculls' '470' 'Elliott 6M' 'Finn' 'Laser'\n",
            " 'Laser Radial' 'Rs:X' 'Star' '10M Air Pistol' '10M Air Rifle'\n",
            " '25M Pistol' '25M Rapid Pistol' '50M Pistol' '50M Rifle 3 Positions'\n",
            " '50M Rifle Prone' 'Double Trap 150' 'Skeet' 'Trap' '+105KG' '+75KG'\n",
            " '-56KG' 'Wf 120KG' 'Wf 48 KG' 'Wf 55 KG' 'Wf 60 KG' 'Wf 63 KG' 'Wf 66 KG'\n",
            " 'Wf 72 KG' 'Wf 74 KG' 'Wf 84 KG' 'Wf 96 KG' 'Wg 120 KG' 'Wg 55 KG'\n",
            " 'Wg 60 KG' 'Wg 66 KG' 'Wg 74 KG' 'Wg 84 KG' 'Wg 96 KG']\n"
          ]
        }
      ]
    },
    {
      "cell_type": "code",
      "metadata": {
        "id": "7e7ebd53",
        "outputId": "fb13e60e-c741-4ca5-bc22-1c09201dbc17"
      },
      "source": [
        "df['Event'].value_counts().head()"
      ],
      "id": "7e7ebd53",
      "execution_count": null,
      "outputs": [
        {
          "data": {
            "text/plain": [
              "Football            1497\n",
              "Hockey              1422\n",
              "Team Competition    1147\n",
              "Basketball          1012\n",
              "Handball             973\n",
              "Name: Event, dtype: int64"
            ]
          },
          "execution_count": 22,
          "metadata": {},
          "output_type": "execute_result"
        }
      ]
    },
    {
      "cell_type": "code",
      "metadata": {
        "scrolled": true,
        "id": "754bc5ff",
        "outputId": "5d08c462-cb08-43fa-d686-e56da11da403"
      },
      "source": [
        "d4 = []\n",
        "\n",
        "for event in df['Event'].unique():\n",
        "    d4.append([event , len(df[df['Event']  == event])])\n",
        "\n",
        "pd.DataFrame(d4,columns = ['Event','freq']).sort_values(by='freq', ascending=False).head().plot(x = 'Event', y = 'freq', kind = 'bar', figsize = (5,5))"
      ],
      "id": "754bc5ff",
      "execution_count": null,
      "outputs": [
        {
          "data": {
            "text/plain": [
              "<AxesSubplot:xlabel='Event'>"
            ]
          },
          "execution_count": 23,
          "metadata": {},
          "output_type": "execute_result"
        },
        {
          "data": {
            "image/png": "[encoded data removed]",
            "text/plain": [
              "<Figure size 360x360 with 1 Axes>"
            ]
          },
          "metadata": {
            "needs_background": "light"
          },
          "output_type": "display_data"
        }
      ]
    },
    {
      "cell_type": "markdown",
      "metadata": {
        "id": "a87e431d"
      },
      "source": [
        "#### Most Popular events in terms of the no. of payers are: Football-1497, Hockey-1422, Team Competition-1147, Basketball-1012, Handball-973"
      ],
      "id": "a87e431d"
    },
    {
      "cell_type": "markdown",
      "metadata": {
        "id": "9d3a3ea0"
      },
      "source": [
        "### 8. Which sport is having most female Gold Medalists? (Top 5)"
      ],
      "id": "9d3a3ea0"
    },
    {
      "cell_type": "code",
      "metadata": {
        "id": "48006e01",
        "outputId": "c5ea09f6-40dc-441f-bba6-b436707b3620"
      },
      "source": [
        "gold_fe=Gold_data[Gold_data[\"Gender\"]=='Women']\n",
        "gold_fe['Sport'].value_counts().head()"
      ],
      "id": "48006e01",
      "execution_count": null,
      "outputs": [
        {
          "data": {
            "text/plain": [
              "Aquatics      589\n",
              "Athletics     389\n",
              "Gymnastics    268\n",
              "Rowing        217\n",
              "Volleyball    166\n",
              "Name: Sport, dtype: int64"
            ]
          },
          "execution_count": 24,
          "metadata": {},
          "output_type": "execute_result"
        }
      ]
    },
    {
      "cell_type": "code",
      "metadata": {
        "scrolled": true,
        "id": "8229a0e2",
        "outputId": "0799df6e-8d2c-4915-adb9-01c417914d8c"
      },
      "source": [
        "#Alternate method\n",
        "Gold_data[Gold_data[\"Gender\"]=='Women']['Sport'].value_counts().head()"
      ],
      "id": "8229a0e2",
      "execution_count": null,
      "outputs": [
        {
          "data": {
            "text/plain": [
              "Aquatics      589\n",
              "Athletics     389\n",
              "Gymnastics    268\n",
              "Rowing        217\n",
              "Volleyball    166\n",
              "Name: Sport, dtype: int64"
            ]
          },
          "execution_count": 25,
          "metadata": {},
          "output_type": "execute_result"
        }
      ]
    },
    {
      "cell_type": "code",
      "metadata": {
        "id": "d3ab74db",
        "outputId": "717bbb77-cd20-40da-8958-d9224b331e19"
      },
      "source": [
        "d5 = []\n",
        "\n",
        "for sport in gold_fe['Sport'].unique():\n",
        "    d5.append([sport , len(gold_fe[gold_fe['Sport']  == sport])])\n",
        "\n",
        "pd.DataFrame(d5,columns = ['Sport','freq']).sort_values(by='freq', ascending=False).head().plot(x = 'Sport', y = 'freq', kind = 'bar', figsize = (5,5))"
      ],
      "id": "d3ab74db",
      "execution_count": null,
      "outputs": [
        {
          "data": {
            "text/plain": [
              "<AxesSubplot:xlabel='Sport'>"
            ]
          },
          "execution_count": 26,
          "metadata": {},
          "output_type": "execute_result"
        },
        {
          "data": {
            "image/png": "[encoded data removed]",
            "text/plain": [
              "<Figure size 360x360 with 1 Axes>"
            ]
          },
          "metadata": {
            "needs_background": "light"
          },
          "output_type": "display_data"
        }
      ]
    },
    {
      "cell_type": "markdown",
      "metadata": {
        "id": "c88c79c5"
      },
      "source": [
        "#### Top 5 sports haveing the most no. of female gold medalists are: Aquatics-589, Athletics-389, Gymnastics-268, Rowing-217, Volleyball-166"
      ],
      "id": "c88c79c5"
    },
    {
      "cell_type": "markdown",
      "metadata": {
        "id": "12541a7d"
      },
      "source": [
        "### Thank You"
      ],
      "id": "12541a7d"
    }
  ]
}